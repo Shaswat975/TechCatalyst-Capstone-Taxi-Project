{
 "cells": [
  {
   "cell_type": "code",
   "execution_count": 4,
   "id": "8014a832",
   "metadata": {},
   "outputs": [],
   "source": [
    "import requests\n",
    "import json\n",
    "import os\n",
    "\n",
    "from dotenv import load_dotenv\n",
    "\n",
    "load_dotenv()\n",
    "key = os.getenv('API_KEY')\n",
    "\n",
    "city_name = 'New York'\n",
    "country_code  = 'US'\n",
    "start = 1704067200\n",
    "end = 1704153600"
   ]
  },
  {
   "cell_type": "code",
   "execution_count": 5,
   "id": "e96cef76",
   "metadata": {},
   "outputs": [],
   "source": [
    "url = f'https://history.openweathermap.org/data/2.5/history/city?q={city_name},{country_code}&type=hour&start={start}&end={end}&appid={key}'"
   ]
  },
  {
   "cell_type": "code",
   "execution_count": 6,
   "id": "12d0f535",
   "metadata": {},
   "outputs": [
    {
     "name": "stdout",
     "output_type": "stream",
     "text": [
      "{\n",
      "    \"cod\": 401,\n",
      "    \"message\": \"Invalid API key. Please see http://openweathermap.org/faq#error401 for more info.\"\n",
      "}\n"
     ]
    }
   ],
   "source": [
    "response = requests.get(url).json()\n",
    "print(json.dumps(response, indent=4, sort_keys=True))"
   ]
  },
  {
   "cell_type": "code",
   "execution_count": null,
   "id": "8406b4f2",
   "metadata": {},
   "outputs": [],
   "source": []
  }
 ],
 "metadata": {
  "kernelspec": {
   "display_name": "dev1",
   "language": "python",
   "name": "python3"
  },
  "language_info": {
   "codemirror_mode": {
    "name": "ipython",
    "version": 3
   },
   "file_extension": ".py",
   "mimetype": "text/x-python",
   "name": "python",
   "nbconvert_exporter": "python",
   "pygments_lexer": "ipython3",
   "version": "3.13.5"
  }
 },
 "nbformat": 4,
 "nbformat_minor": 5
}

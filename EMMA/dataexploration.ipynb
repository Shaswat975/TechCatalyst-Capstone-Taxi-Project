{
 "cells": [
  {
   "cell_type": "code",
   "execution_count": 8,
   "id": "192b6e4f",
   "metadata": {},
   "outputs": [],
   "source": [
    "import pandas as pd"
   ]
  },
  {
   "cell_type": "code",
   "execution_count": 9,
   "id": "3784d467",
   "metadata": {},
   "outputs": [],
   "source": [
    "file_url = 's3://capstone-techcatalyst-raw/More NYC Taxi/Additional NYC Data/Construction-Related_Incidents_20250809.csv'"
   ]
  },
  {
   "cell_type": "code",
   "execution_count": 10,
   "id": "bea0fda5",
   "metadata": {},
   "outputs": [
    {
     "data": {
      "text/plain": [
       "True"
      ]
     },
     "execution_count": 10,
     "metadata": {},
     "output_type": "execute_result"
    }
   ],
   "source": [
    "from dotenv import load_dotenv\n",
    "\n",
    "load_dotenv()"
   ]
  },
  {
   "cell_type": "code",
   "execution_count": 20,
   "id": "f0e8ab96",
   "metadata": {},
   "outputs": [],
   "source": [
    "df = pd.read_csv(file_url)"
   ]
  },
  {
   "cell_type": "code",
   "execution_count": 12,
   "id": "eea0ad42",
   "metadata": {},
   "outputs": [
    {
     "data": {
      "text/html": [
       "<div>\n",
       "<style scoped>\n",
       "    .dataframe tbody tr th:only-of-type {\n",
       "        vertical-align: middle;\n",
       "    }\n",
       "\n",
       "    .dataframe tbody tr th {\n",
       "        vertical-align: top;\n",
       "    }\n",
       "\n",
       "    .dataframe thead th {\n",
       "        text-align: right;\n",
       "    }\n",
       "</style>\n",
       "<table border=\"1\" class=\"dataframe\">\n",
       "  <thead>\n",
       "    <tr style=\"text-align: right;\">\n",
       "      <th></th>\n",
       "      <th>BIN</th>\n",
       "      <th>Accident Report ID</th>\n",
       "      <th>Fatality</th>\n",
       "      <th>Injury</th>\n",
       "      <th>Block</th>\n",
       "      <th>Lot</th>\n",
       "      <th>Postcode</th>\n",
       "      <th>Latitude</th>\n",
       "      <th>Longitude</th>\n",
       "      <th>Community Board</th>\n",
       "      <th>Council District</th>\n",
       "      <th>BBL</th>\n",
       "      <th>Census Tract (2020)</th>\n",
       "    </tr>\n",
       "  </thead>\n",
       "  <tbody>\n",
       "    <tr>\n",
       "      <th>count</th>\n",
       "      <td>9.080000e+02</td>\n",
       "      <td>911.000000</td>\n",
       "      <td>911.000000</td>\n",
       "      <td>911.000000</td>\n",
       "      <td>908.000000</td>\n",
       "      <td>908.000000</td>\n",
       "      <td>908.000000</td>\n",
       "      <td>908.000000</td>\n",
       "      <td>908.000000</td>\n",
       "      <td>908.000000</td>\n",
       "      <td>908.000000</td>\n",
       "      <td>8.800000e+02</td>\n",
       "      <td>908.000000</td>\n",
       "    </tr>\n",
       "    <tr>\n",
       "      <th>mean</th>\n",
       "      <td>2.453678e+06</td>\n",
       "      <td>43709.439078</td>\n",
       "      <td>0.014270</td>\n",
       "      <td>0.784852</td>\n",
       "      <td>2300.046256</td>\n",
       "      <td>412.516520</td>\n",
       "      <td>10656.104626</td>\n",
       "      <td>40.733592</td>\n",
       "      <td>-73.952269</td>\n",
       "      <td>231.864537</td>\n",
       "      <td>20.278634</td>\n",
       "      <td>2.268063e+09</td>\n",
       "      <td>6212.377753</td>\n",
       "    </tr>\n",
       "    <tr>\n",
       "      <th>std</th>\n",
       "      <td>1.287157e+06</td>\n",
       "      <td>642.558217</td>\n",
       "      <td>0.118667</td>\n",
       "      <td>0.498163</td>\n",
       "      <td>2409.614746</td>\n",
       "      <td>1631.176112</td>\n",
       "      <td>571.317282</td>\n",
       "      <td>0.065751</td>\n",
       "      <td>0.051848</td>\n",
       "      <td>115.407252</td>\n",
       "      <td>15.380528</td>\n",
       "      <td>1.170113e+09</td>\n",
       "      <td>16604.284155</td>\n",
       "    </tr>\n",
       "    <tr>\n",
       "      <th>min</th>\n",
       "      <td>1.000007e+06</td>\n",
       "      <td>42646.000000</td>\n",
       "      <td>0.000000</td>\n",
       "      <td>0.000000</td>\n",
       "      <td>1.000000</td>\n",
       "      <td>1.000000</td>\n",
       "      <td>10001.000000</td>\n",
       "      <td>40.553156</td>\n",
       "      <td>-74.162337</td>\n",
       "      <td>101.000000</td>\n",
       "      <td>1.000000</td>\n",
       "      <td>1.000010e+09</td>\n",
       "      <td>2.000000</td>\n",
       "    </tr>\n",
       "    <tr>\n",
       "      <th>25%</th>\n",
       "      <td>1.082967e+06</td>\n",
       "      <td>43185.000000</td>\n",
       "      <td>0.000000</td>\n",
       "      <td>1.000000</td>\n",
       "      <td>809.750000</td>\n",
       "      <td>7.000000</td>\n",
       "      <td>10023.000000</td>\n",
       "      <td>40.689356</td>\n",
       "      <td>-73.986290</td>\n",
       "      <td>106.000000</td>\n",
       "      <td>4.000000</td>\n",
       "      <td>1.012750e+09</td>\n",
       "      <td>101.000000</td>\n",
       "    </tr>\n",
       "    <tr>\n",
       "      <th>50%</th>\n",
       "      <td>2.815372e+06</td>\n",
       "      <td>43639.000000</td>\n",
       "      <td>0.000000</td>\n",
       "      <td>1.000000</td>\n",
       "      <td>1512.500000</td>\n",
       "      <td>25.000000</td>\n",
       "      <td>10468.000000</td>\n",
       "      <td>40.740742</td>\n",
       "      <td>-73.963608</td>\n",
       "      <td>211.500000</td>\n",
       "      <td>17.000000</td>\n",
       "      <td>2.041340e+09</td>\n",
       "      <td>299.000000</td>\n",
       "    </tr>\n",
       "    <tr>\n",
       "      <th>75%</th>\n",
       "      <td>3.429267e+06</td>\n",
       "      <td>44244.500000</td>\n",
       "      <td>0.000000</td>\n",
       "      <td>1.000000</td>\n",
       "      <td>2856.000000</td>\n",
       "      <td>51.000000</td>\n",
       "      <td>11216.250000</td>\n",
       "      <td>40.765724</td>\n",
       "      <td>-73.927449</td>\n",
       "      <td>309.000000</td>\n",
       "      <td>35.000000</td>\n",
       "      <td>3.036920e+09</td>\n",
       "      <td>1902.000000</td>\n",
       "    </tr>\n",
       "    <tr>\n",
       "      <th>max</th>\n",
       "      <td>5.175835e+06</td>\n",
       "      <td>44887.000000</td>\n",
       "      <td>1.000000</td>\n",
       "      <td>5.000000</td>\n",
       "      <td>16188.000000</td>\n",
       "      <td>9010.000000</td>\n",
       "      <td>11694.000000</td>\n",
       "      <td>40.896116</td>\n",
       "      <td>-73.750419</td>\n",
       "      <td>503.000000</td>\n",
       "      <td>51.000000</td>\n",
       "      <td>5.054870e+09</td>\n",
       "      <td>107001.000000</td>\n",
       "    </tr>\n",
       "  </tbody>\n",
       "</table>\n",
       "</div>"
      ],
      "text/plain": [
       "                BIN  Accident Report ID    Fatality      Injury         Block  \\\n",
       "count  9.080000e+02          911.000000  911.000000  911.000000    908.000000   \n",
       "mean   2.453678e+06        43709.439078    0.014270    0.784852   2300.046256   \n",
       "std    1.287157e+06          642.558217    0.118667    0.498163   2409.614746   \n",
       "min    1.000007e+06        42646.000000    0.000000    0.000000      1.000000   \n",
       "25%    1.082967e+06        43185.000000    0.000000    1.000000    809.750000   \n",
       "50%    2.815372e+06        43639.000000    0.000000    1.000000   1512.500000   \n",
       "75%    3.429267e+06        44244.500000    0.000000    1.000000   2856.000000   \n",
       "max    5.175835e+06        44887.000000    1.000000    5.000000  16188.000000   \n",
       "\n",
       "               Lot      Postcode    Latitude   Longitude  Community Board  \\\n",
       "count   908.000000    908.000000  908.000000  908.000000       908.000000   \n",
       "mean    412.516520  10656.104626   40.733592  -73.952269       231.864537   \n",
       "std    1631.176112    571.317282    0.065751    0.051848       115.407252   \n",
       "min       1.000000  10001.000000   40.553156  -74.162337       101.000000   \n",
       "25%       7.000000  10023.000000   40.689356  -73.986290       106.000000   \n",
       "50%      25.000000  10468.000000   40.740742  -73.963608       211.500000   \n",
       "75%      51.000000  11216.250000   40.765724  -73.927449       309.000000   \n",
       "max    9010.000000  11694.000000   40.896116  -73.750419       503.000000   \n",
       "\n",
       "       Council District           BBL  Census Tract (2020)  \n",
       "count        908.000000  8.800000e+02           908.000000  \n",
       "mean          20.278634  2.268063e+09          6212.377753  \n",
       "std           15.380528  1.170113e+09         16604.284155  \n",
       "min            1.000000  1.000010e+09             2.000000  \n",
       "25%            4.000000  1.012750e+09           101.000000  \n",
       "50%           17.000000  2.041340e+09           299.000000  \n",
       "75%           35.000000  3.036920e+09          1902.000000  \n",
       "max           51.000000  5.054870e+09        107001.000000  "
      ]
     },
     "execution_count": 12,
     "metadata": {},
     "output_type": "execute_result"
    }
   ],
   "source": [
    "df.describe()"
   ]
  },
  {
   "cell_type": "code",
   "execution_count": 13,
   "id": "2d1e35e5",
   "metadata": {},
   "outputs": [
    {
     "data": {
      "text/plain": [
       "<Axes: title={'center': 'Accidents by Borough'}, xlabel='Borough'>"
      ]
     },
     "execution_count": 13,
     "metadata": {},
     "output_type": "execute_result"
    },
    {
     "data": {
      "image/png": "[encoded data removed]",
      "text/plain": [
       "<Figure size 640x480 with 1 Axes>"
      ]
     },
     "metadata": {},
     "output_type": "display_data"
    }
   ],
   "source": [
    "df['Borough'].value_counts().plot(kind='bar', title='Accidents by Borough')"
   ]
  },
  {
   "cell_type": "code",
   "execution_count": null,
   "id": "a1cb6459",
   "metadata": {},
   "outputs": [
    {
     "data": {
      "text/plain": [
       "<Axes: title={'center': 'Accidents Over Time'}, xlabel='Year'>"
      ]
     },
     "execution_count": 16,
     "metadata": {},
     "output_type": "execute_result"
    },
    {
     "data": {
      "image/png": "[encoded data removed]",
      "text/plain": [
       "<Figure size 640x480 with 1 Axes>"
      ]
     },
     "metadata": {},
     "output_type": "display_data"
    }
   ],
   "source": [
    "df['Incident Date'] = pd.to_datetime(df['Incident Date'])\n",
    "df['Year'] = df['Incident Date'].dt.year\n",
    "df['Year'].value_counts().sort_index().plot(kind='bar', title='Accidents Over Time')\n"
   ]
  },
  {
   "cell_type": "code",
   "execution_count": 15,
   "id": "80e15720",
   "metadata": {},
   "outputs": [
    {
     "data": {
      "text/plain": [
       "<Axes: title={'center': 'Fatal vs Non-Fatal Accidents'}, xlabel='Fatality'>"
      ]
     },
     "execution_count": 15,
     "metadata": {},
     "output_type": "execute_result"
    },
    {
     "data": {
      "image/png": "[encoded data removed]",
      "text/plain": [
       "<Figure size 640x480 with 1 Axes>"
      ]
     },
     "metadata": {},
     "output_type": "display_data"
    }
   ],
   "source": [
    "df['Fatality'].value_counts().plot(kind='bar', title='Fatal vs Non-Fatal Accidents')\n"
   ]
  },
  {
   "cell_type": "code",
   "execution_count": 21,
   "id": "eaffc55b",
   "metadata": {},
   "outputs": [
    {
     "data": {
      "text/plain": [
       "BIN                                           3\n",
       "Accident Report ID                            0\n",
       "Incident Date                                 0\n",
       "Record Type Description                       0\n",
       "Check2 Description                            0\n",
       "Fatality                                      0\n",
       "Injury                                        0\n",
       "House Number                                  0\n",
       "Street Name                                   0\n",
       "Borough                                       0\n",
       "Block                                         3\n",
       "Lot                                           3\n",
       "Postcode                                      3\n",
       "Latitude                                      3\n",
       "Longitude                                     3\n",
       "Community Board                               3\n",
       "Council District                              3\n",
       "BBL                                          31\n",
       "Census Tract (2020)                           3\n",
       "Neighborhood Tabulation Area (NTA) (2020)     3\n",
       "dtype: int64"
      ]
     },
     "execution_count": 21,
     "metadata": {},
     "output_type": "execute_result"
    }
   ],
   "source": [
    "df.isnull().sum()"
   ]
  },
  {
   "cell_type": "code",
   "execution_count": 11,
   "id": "4e043150",
   "metadata": {},
   "outputs": [
    {
     "name": "stderr",
     "output_type": "stream",
     "text": [
      "/tmp/ipykernel_11469/3877851914.py:1: DtypeWarning: Columns (3) have mixed types. Specify dtype option on import or set low_memory=False.\n",
      "  df2 = pd.read_csv('s3://capstone-techcatalyst-raw/More NYC Taxi/Additional NYC Data/Motor_Vehicle_Collisions_-_Crashes_20250809.csv')\n"
     ]
    }
   ],
   "source": [
    "df2 = pd.read_csv('s3://capstone-techcatalyst-raw/More NYC Taxi/Additional NYC Data/Motor_Vehicle_Collisions_-_Crashes_20250809.csv')"
   ]
  },
  {
   "cell_type": "code",
   "execution_count": 12,
   "id": "f6c39225",
   "metadata": {},
   "outputs": [
    {
     "data": {
      "text/html": [
       "<div>\n",
       "<style scoped>\n",
       "    .dataframe tbody tr th:only-of-type {\n",
       "        vertical-align: middle;\n",
       "    }\n",
       "\n",
       "    .dataframe tbody tr th {\n",
       "        vertical-align: top;\n",
       "    }\n",
       "\n",
       "    .dataframe thead th {\n",
       "        text-align: right;\n",
       "    }\n",
       "</style>\n",
       "<table border=\"1\" class=\"dataframe\">\n",
       "  <thead>\n",
       "    <tr style=\"text-align: right;\">\n",
       "      <th></th>\n",
       "      <th>CRASH DATE</th>\n",
       "      <th>CRASH TIME</th>\n",
       "      <th>BOROUGH</th>\n",
       "      <th>ZIP CODE</th>\n",
       "      <th>LATITUDE</th>\n",
       "      <th>LONGITUDE</th>\n",
       "      <th>LOCATION</th>\n",
       "      <th>ON STREET NAME</th>\n",
       "      <th>CROSS STREET NAME</th>\n",
       "      <th>OFF STREET NAME</th>\n",
       "      <th>...</th>\n",
       "      <th>CONTRIBUTING FACTOR VEHICLE 2</th>\n",
       "      <th>CONTRIBUTING FACTOR VEHICLE 3</th>\n",
       "      <th>CONTRIBUTING FACTOR VEHICLE 4</th>\n",
       "      <th>CONTRIBUTING FACTOR VEHICLE 5</th>\n",
       "      <th>COLLISION_ID</th>\n",
       "      <th>VEHICLE TYPE CODE 1</th>\n",
       "      <th>VEHICLE TYPE CODE 2</th>\n",
       "      <th>VEHICLE TYPE CODE 3</th>\n",
       "      <th>VEHICLE TYPE CODE 4</th>\n",
       "      <th>VEHICLE TYPE CODE 5</th>\n",
       "    </tr>\n",
       "  </thead>\n",
       "  <tbody>\n",
       "    <tr>\n",
       "      <th>0</th>\n",
       "      <td>09/11/2021</td>\n",
       "      <td>2:39</td>\n",
       "      <td>NaN</td>\n",
       "      <td>NaN</td>\n",
       "      <td>NaN</td>\n",
       "      <td>NaN</td>\n",
       "      <td>NaN</td>\n",
       "      <td>WHITESTONE EXPRESSWAY</td>\n",
       "      <td>20 AVENUE</td>\n",
       "      <td>NaN</td>\n",
       "      <td>...</td>\n",
       "      <td>Unspecified</td>\n",
       "      <td>NaN</td>\n",
       "      <td>NaN</td>\n",
       "      <td>NaN</td>\n",
       "      <td>4455765</td>\n",
       "      <td>Sedan</td>\n",
       "      <td>Sedan</td>\n",
       "      <td>NaN</td>\n",
       "      <td>NaN</td>\n",
       "      <td>NaN</td>\n",
       "    </tr>\n",
       "    <tr>\n",
       "      <th>1</th>\n",
       "      <td>03/26/2022</td>\n",
       "      <td>11:45</td>\n",
       "      <td>NaN</td>\n",
       "      <td>NaN</td>\n",
       "      <td>NaN</td>\n",
       "      <td>NaN</td>\n",
       "      <td>NaN</td>\n",
       "      <td>QUEENSBORO BRIDGE UPPER</td>\n",
       "      <td>NaN</td>\n",
       "      <td>NaN</td>\n",
       "      <td>...</td>\n",
       "      <td>NaN</td>\n",
       "      <td>NaN</td>\n",
       "      <td>NaN</td>\n",
       "      <td>NaN</td>\n",
       "      <td>4513547</td>\n",
       "      <td>Sedan</td>\n",
       "      <td>NaN</td>\n",
       "      <td>NaN</td>\n",
       "      <td>NaN</td>\n",
       "      <td>NaN</td>\n",
       "    </tr>\n",
       "    <tr>\n",
       "      <th>2</th>\n",
       "      <td>11/01/2023</td>\n",
       "      <td>1:29</td>\n",
       "      <td>BROOKLYN</td>\n",
       "      <td>11230.0</td>\n",
       "      <td>40.62179</td>\n",
       "      <td>-73.970024</td>\n",
       "      <td>(40.62179, -73.970024)</td>\n",
       "      <td>OCEAN PARKWAY</td>\n",
       "      <td>AVENUE K</td>\n",
       "      <td>NaN</td>\n",
       "      <td>...</td>\n",
       "      <td>Unspecified</td>\n",
       "      <td>Unspecified</td>\n",
       "      <td>NaN</td>\n",
       "      <td>NaN</td>\n",
       "      <td>4675373</td>\n",
       "      <td>Moped</td>\n",
       "      <td>Sedan</td>\n",
       "      <td>Sedan</td>\n",
       "      <td>NaN</td>\n",
       "      <td>NaN</td>\n",
       "    </tr>\n",
       "    <tr>\n",
       "      <th>3</th>\n",
       "      <td>06/29/2022</td>\n",
       "      <td>6:55</td>\n",
       "      <td>NaN</td>\n",
       "      <td>NaN</td>\n",
       "      <td>NaN</td>\n",
       "      <td>NaN</td>\n",
       "      <td>NaN</td>\n",
       "      <td>THROGS NECK BRIDGE</td>\n",
       "      <td>NaN</td>\n",
       "      <td>NaN</td>\n",
       "      <td>...</td>\n",
       "      <td>Unspecified</td>\n",
       "      <td>NaN</td>\n",
       "      <td>NaN</td>\n",
       "      <td>NaN</td>\n",
       "      <td>4541903</td>\n",
       "      <td>Sedan</td>\n",
       "      <td>Pick-up Truck</td>\n",
       "      <td>NaN</td>\n",
       "      <td>NaN</td>\n",
       "      <td>NaN</td>\n",
       "    </tr>\n",
       "    <tr>\n",
       "      <th>4</th>\n",
       "      <td>09/21/2022</td>\n",
       "      <td>13:21</td>\n",
       "      <td>NaN</td>\n",
       "      <td>NaN</td>\n",
       "      <td>NaN</td>\n",
       "      <td>NaN</td>\n",
       "      <td>NaN</td>\n",
       "      <td>BROOKLYN BRIDGE</td>\n",
       "      <td>NaN</td>\n",
       "      <td>NaN</td>\n",
       "      <td>...</td>\n",
       "      <td>Unspecified</td>\n",
       "      <td>NaN</td>\n",
       "      <td>NaN</td>\n",
       "      <td>NaN</td>\n",
       "      <td>4566131</td>\n",
       "      <td>Station Wagon/Sport Utility Vehicle</td>\n",
       "      <td>NaN</td>\n",
       "      <td>NaN</td>\n",
       "      <td>NaN</td>\n",
       "      <td>NaN</td>\n",
       "    </tr>\n",
       "  </tbody>\n",
       "</table>\n",
       "<p>5 rows × 29 columns</p>\n",
       "</div>"
      ],
      "text/plain": [
       "   CRASH DATE CRASH TIME   BOROUGH ZIP CODE  LATITUDE  LONGITUDE  \\\n",
       "0  09/11/2021       2:39       NaN      NaN       NaN        NaN   \n",
       "1  03/26/2022      11:45       NaN      NaN       NaN        NaN   \n",
       "2  11/01/2023       1:29  BROOKLYN  11230.0  40.62179 -73.970024   \n",
       "3  06/29/2022       6:55       NaN      NaN       NaN        NaN   \n",
       "4  09/21/2022      13:21       NaN      NaN       NaN        NaN   \n",
       "\n",
       "                 LOCATION           ON STREET NAME CROSS STREET NAME  \\\n",
       "0                     NaN    WHITESTONE EXPRESSWAY         20 AVENUE   \n",
       "1                     NaN  QUEENSBORO BRIDGE UPPER               NaN   \n",
       "2  (40.62179, -73.970024)            OCEAN PARKWAY          AVENUE K   \n",
       "3                     NaN       THROGS NECK BRIDGE               NaN   \n",
       "4                     NaN          BROOKLYN BRIDGE               NaN   \n",
       "\n",
       "  OFF STREET NAME  ...  CONTRIBUTING FACTOR VEHICLE 2  \\\n",
       "0             NaN  ...                    Unspecified   \n",
       "1             NaN  ...                            NaN   \n",
       "2             NaN  ...                    Unspecified   \n",
       "3             NaN  ...                    Unspecified   \n",
       "4             NaN  ...                    Unspecified   \n",
       "\n",
       "   CONTRIBUTING FACTOR VEHICLE 3  CONTRIBUTING FACTOR VEHICLE 4  \\\n",
       "0                            NaN                            NaN   \n",
       "1                            NaN                            NaN   \n",
       "2                    Unspecified                            NaN   \n",
       "3                            NaN                            NaN   \n",
       "4                            NaN                            NaN   \n",
       "\n",
       "   CONTRIBUTING FACTOR VEHICLE 5  COLLISION_ID  \\\n",
       "0                            NaN       4455765   \n",
       "1                            NaN       4513547   \n",
       "2                            NaN       4675373   \n",
       "3                            NaN       4541903   \n",
       "4                            NaN       4566131   \n",
       "\n",
       "                   VEHICLE TYPE CODE 1  VEHICLE TYPE CODE 2  \\\n",
       "0                                Sedan                Sedan   \n",
       "1                                Sedan                  NaN   \n",
       "2                                Moped                Sedan   \n",
       "3                                Sedan        Pick-up Truck   \n",
       "4  Station Wagon/Sport Utility Vehicle                  NaN   \n",
       "\n",
       "   VEHICLE TYPE CODE 3 VEHICLE TYPE CODE 4 VEHICLE TYPE CODE 5  \n",
       "0                  NaN                 NaN                 NaN  \n",
       "1                  NaN                 NaN                 NaN  \n",
       "2                Sedan                 NaN                 NaN  \n",
       "3                  NaN                 NaN                 NaN  \n",
       "4                  NaN                 NaN                 NaN  \n",
       "\n",
       "[5 rows x 29 columns]"
      ]
     },
     "execution_count": 12,
     "metadata": {},
     "output_type": "execute_result"
    }
   ],
   "source": [
    "df2.head()"
   ]
  },
  {
   "cell_type": "code",
   "execution_count": 16,
   "id": "bcec3268",
   "metadata": {},
   "outputs": [
    {
     "data": {
      "text/plain": [
       "Index(['CRASH DATE', 'CRASH TIME', 'BOROUGH', 'ZIP CODE', 'LATITUDE',\n",
       "       'LONGITUDE', 'LOCATION', 'ON STREET NAME', 'CROSS STREET NAME',\n",
       "       'OFF STREET NAME', 'NUMBER OF PERSONS INJURED',\n",
       "       'NUMBER OF PERSONS KILLED', 'NUMBER OF PEDESTRIANS INJURED',\n",
       "       'NUMBER OF PEDESTRIANS KILLED', 'NUMBER OF CYCLIST INJURED',\n",
       "       'NUMBER OF CYCLIST KILLED', 'NUMBER OF MOTORIST INJURED',\n",
       "       'NUMBER OF MOTORIST KILLED', 'CONTRIBUTING FACTOR VEHICLE 1',\n",
       "       'CONTRIBUTING FACTOR VEHICLE 2', 'CONTRIBUTING FACTOR VEHICLE 3',\n",
       "       'CONTRIBUTING FACTOR VEHICLE 4', 'CONTRIBUTING FACTOR VEHICLE 5',\n",
       "       'COLLISION_ID', 'VEHICLE TYPE CODE 1', 'VEHICLE TYPE CODE 2',\n",
       "       'VEHICLE TYPE CODE 3', 'VEHICLE TYPE CODE 4', 'VEHICLE TYPE CODE 5'],\n",
       "      dtype='object')"
      ]
     },
     "execution_count": 16,
     "metadata": {},
     "output_type": "execute_result"
    }
   ],
   "source": [
    "df2.columns\n"
   ]
  },
  {
   "cell_type": "code",
   "execution_count": 18,
   "id": "09946efb",
   "metadata": {},
   "outputs": [
    {
     "data": {
      "text/plain": [
       "NUMBER OF PERSONS KILLED\n",
       "0.0    2193418\n",
       "1.0       3198\n",
       "2.0         87\n",
       "3.0         13\n",
       "4.0          4\n",
       "5.0          2\n",
       "8.0          1\n",
       "Name: count, dtype: int64"
      ]
     },
     "execution_count": 18,
     "metadata": {},
     "output_type": "execute_result"
    }
   ],
   "source": [
    "df2['NUMBER OF PERSONS KILLED'].value_counts()"
   ]
  },
  {
   "cell_type": "code",
   "execution_count": 23,
   "id": "19a8a758",
   "metadata": {},
   "outputs": [
    {
     "data": {
      "text/plain": [
       "<Axes: xlabel='NUMBER OF PERSONS KILLED'>"
      ]
     },
     "execution_count": 23,
     "metadata": {},
     "output_type": "execute_result"
    },
    {
     "data": {
      "image/png": "[encoded data removed]",
      "text/plain": [
       "<Figure size 640x480 with 1 Axes>"
      ]
     },
     "metadata": {},
     "output_type": "display_data"
    }
   ],
   "source": [
    "df2['NUMBER OF PERSONS KILLED'].value_counts().plot()"
   ]
  },
  {
   "cell_type": "code",
   "execution_count": null,
   "id": "b788f498",
   "metadata": {},
   "outputs": [
    {
     "ename": "",
     "evalue": "",
     "output_type": "error",
     "traceback": [
      "\u001b[1;31mThe Kernel crashed while executing code in the current cell or a previous cell. \n",
      "\u001b[1;31mPlease review the code in the cell(s) to identify a possible cause of the failure. \n",
      "\u001b[1;31mClick <a href='https://aka.ms/vscodeJupyterKernelCrash'>here</a> for more info. \n",
      "\u001b[1;31mView Jupyter <a href='command:jupyter.viewOutput'>log</a> for further details."
     ]
    }
   ],
   "source": [
    "\n",
    "person_collision = pd.read_csv('s3://capstone-techcatalyst-raw/More NYC Taxi/Additional NYC Data/Motor_Vehicle_Collisions_-_Person_20250809.csv')"
   ]
  },
  {
   "cell_type": "code",
   "execution_count": 2,
   "id": "eecbfdd4",
   "metadata": {},
   "outputs": [],
   "source": [
    "import duckdb \n",
    "con = duckdb.connect(\"sample.duckdb\")"
   ]
  },
  {
   "cell_type": "code",
   "execution_count": 3,
   "id": "984cafae",
   "metadata": {},
   "outputs": [],
   "source": [
    "con.sql(\"INSTALL httpfs;\")\n",
    "con.sql(\"LOAD httpfs;\")"
   ]
  },
  {
   "cell_type": "code",
   "execution_count": 4,
   "id": "7d833ab5",
   "metadata": {},
   "outputs": [
    {
     "data": {
      "text/plain": [
       "┌─────────┐\n",
       "│ Success │\n",
       "│ boolean │\n",
       "├─────────┤\n",
       "│ true    │\n",
       "└─────────┘"
      ]
     },
     "execution_count": 4,
     "metadata": {},
     "output_type": "execute_result"
    }
   ],
   "source": [
    "con.sql(\"\"\"\n",
    "  CREATE OR REPLACE SECRET my_s3 (\n",
    "    TYPE s3,\n",
    "    PROVIDER credential_chain\n",
    "  );\n",
    "\"\"\")"
   ]
  },
  {
   "cell_type": "code",
   "execution_count": 6,
   "id": "188efbc4",
   "metadata": {},
   "outputs": [],
   "source": [
    "df = con.sql(\"SELECT * FROM read_csv('s3://capstone-techcatalyst-raw/More NYC Taxi/Additional NYC Data/Motor_Vehicle_Collisions_-_Person_20250809.csv')\")"
   ]
  },
  {
   "cell_type": "code",
   "execution_count": 7,
   "id": "4010fedd",
   "metadata": {},
   "outputs": [
    {
     "data": {
      "text/plain": [
       "┌───────────┬──────────────┬────────────┬────────────┬──────────────────────────────────────┬─────────────┬───────────────┬────────────┬────────────┬─────────────┬──────────────────┬──────────────────────┬──────────────────────────────────────────────────────────────────────────────────────┬────────────────────┬───────────────────────────────────────────────────────┬──────────────────────┬─────────────────────────────┬─────────────────┬───────────────────────┬───────────────────────┬────────────┐\n",
       "│ UNIQUE_ID │ COLLISION_ID │ CRASH_DATE │ CRASH_TIME │              PERSON_ID               │ PERSON_TYPE │ PERSON_INJURY │ VEHICLE_ID │ PERSON_AGE │  EJECTION   │ EMOTIONAL_STATUS │    BODILY_INJURY     │                                 POSITION_IN_VEHICLE                                  │  SAFETY_EQUIPMENT  │                     PED_LOCATION                      │      PED_ACTION      │          COMPLAINT          │    PED_ROLE     │ CONTRIBUTING_FACTOR_1 │ CONTRIBUTING_FACTOR_2 │ PERSON_SEX │\n",
       "│   int64   │    int64     │    date    │    time    │               varchar                │   varchar   │    varchar    │   int64    │   int64    │   varchar   │     varchar      │       varchar        │                                       varchar                                        │      varchar       │                        varchar                        │       varchar        │           varchar           │     varchar     │        varchar        │        varchar        │  varchar   │\n",
       "├───────────┼──────────────┼────────────┼────────────┼──────────────────────────────────────┼─────────────┼───────────────┼────────────┼────────────┼─────────────┼──────────────────┼──────────────────────┼──────────────────────────────────────────────────────────────────────────────────────┼────────────────────┼───────────────────────────────────────────────────────┼──────────────────────┼─────────────────────────────┼─────────────────┼───────────────────────┼───────────────────────┼────────────┤\n",
       "│  10249006 │      4229554 │ 2019-10-26 │ 09:43:00   │ 31aa2bc0-f545-444f-8cdb-f1cb5cf00b89 │ Occupant    │ Unspecified   │   19141108 │       NULL │ NULL        │ NULL             │ NULL                 │ NULL                                                                                 │ NULL               │ NULL                                                  │ NULL                 │ NULL                        │ Registrant      │ NULL                  │ NULL                  │ U          │\n",
       "│  10255054 │      4230587 │ 2019-10-25 │ 15:15:00   │ 4629e500-a73e-48dc-b8fb-53124d124b80 │ Occupant    │ Unspecified   │   19144075 │         33 │ Not Ejected │ Does Not Apply   │ Does Not Apply       │ Front passenger, if two or more persons, including the driver, are in the front seat │ Lap Belt & Harness │ NULL                                                  │ NULL                 │ Does Not Apply              │ Passenger       │ NULL                  │ NULL                  │ F          │\n",
       "│  10253177 │      4230550 │ 2019-10-26 │ 17:55:00   │ ae48c136-1383-45db-83f4-2a5eecfb7cff │ Occupant    │ Unspecified   │   19143133 │         55 │ NULL        │ NULL             │ NULL                 │ NULL                                                                                 │ NULL               │ NULL                                                  │ NULL                 │ NULL                        │ Registrant      │ NULL                  │ NULL                  │ M          │\n",
       "│   6650180 │      3565527 │ 2016-11-21 │ 13:05:00   │ 2782525                              │ Occupant    │ Unspecified   │       NULL │       NULL │ NULL        │ NULL             │ NULL                 │ NULL                                                                                 │ NULL               │ NULL                                                  │ NULL                 │ NULL                        │ Notified Person │ NULL                  │ NULL                  │ NULL       │\n",
       "│  10255516 │      4231168 │ 2019-10-25 │ 11:16:00   │ e038e18f-40fb-4471-99cf-345eae36e064 │ Occupant    │ Unspecified   │   19144329 │          7 │ Not Ejected │ Does Not Apply   │ Does Not Apply       │ Right rear passenger or motorcycle sidecar passenger                                 │ Lap Belt           │ NULL                                                  │ NULL                 │ Does Not Apply              │ Passenger       │ NULL                  │ NULL                  │ F          │\n",
       "│  10253606 │      4230743 │ 2019-10-24 │ 19:15:00   │ 84bcb3a7-d201-4c61-9e30-fe29268c1074 │ Occupant    │ Injured       │   19143343 │         27 │ Not Ejected │ Conscious        │ Back                 │ Driver                                                                               │ Lap Belt & Harness │ NULL                                                  │ NULL                 │ Complaint of Pain or Nausea │ Driver          │ NULL                  │ NULL                  │ M          │\n",
       "│  10251336 │      4230047 │ 2019-10-26 │ 16:45:00   │ 21064a07-a945-49d0-af97-5446801b20ce │ Occupant    │ Unspecified   │   19142198 │         41 │ NULL        │ NULL             │ NULL                 │ NULL                                                                                 │ NULL               │ NULL                                                  │ NULL                 │ NULL                        │ Registrant      │ NULL                  │ NULL                  │ F          │\n",
       "│  10248708 │      4229547 │ 2019-10-26 │ 01:15:00   │ a8904763-2870-42f3-865c-b53d8e5156e2 │ Pedestrian  │ Injured       │       NULL │         24 │ NULL        │ Conscious        │ Shoulder - Upper Arm │ NULL                                                                                 │ NULL               │ Pedestrian/Bicyclist/Other Pedestrian at Intersection │ Crossing With Signal │ None Visible                │ Pedestrian      │ Unspecified           │ Unspecified           │ F          │\n",
       "│  10250179 │      4229808 │ 2019-10-26 │ 13:04:00   │ c3fc715e-203f-462d-9e8b-6a41fc378703 │ Occupant    │ Unspecified   │   19141630 │         36 │ Not Ejected │ Does Not Apply   │ Does Not Apply       │ Driver                                                                               │ Lap Belt & Harness │ NULL                                                  │ NULL                 │ Does Not Apply              │ Driver          │ NULL                  │ NULL                  │ M          │\n",
       "│  10253792 │      4230915 │ 2019-10-24 │ 08:20:00   │ 793ac6c6-cbc7-4ab3-ab95-09f9312f1123 │ Occupant    │ Unspecified   │   19143438 │       NULL │ NULL        │ NULL             │ NULL                 │ NULL                                                                                 │ NULL               │ NULL                                                  │ NULL                 │ NULL                        │ Registrant      │ NULL                  │ NULL                  │ U          │\n",
       "│      ·    │         ·    │     ·      │    ·       │                  ·                   │    ·        │      ·        │       ·    │         ·  │  ·          │  ·               │  ·                   │  ·                                                                                   │  ·                 │  ·                                                    │  ·                   │  ·                          │     ·           │  ·                    │  ·                    │ ·          │\n",
       "│      ·    │         ·    │     ·      │    ·       │                  ·                   │    ·        │      ·        │       ·    │         ·  │  ·          │  ·               │  ·                   │  ·                                                                                   │  ·                 │  ·                                                    │  ·                   │  ·                          │     ·           │  ·                    │  ·                    │ ·          │\n",
       "│      ·    │         ·    │     ·      │    ·       │                  ·                   │    ·        │      ·        │       ·    │         ·  │  ·          │  ·               │  ·                   │  ·                                                                                   │  ·                 │  ·                                                    │  ·                   │  ·                          │     ·           │  ·                    │  ·                    │ ·          │\n",
       "│  10258485 │      4231372 │ 2019-10-29 │ 08:44:00   │ 067a171e-7df4-47a6-ad78-ffd173867b39 │ Occupant    │ Unspecified   │   19145807 │       NULL │ NULL        │ NULL             │ NULL                 │ NULL                                                                                 │ NULL               │ NULL                                                  │ NULL                 │ NULL                        │ Registrant      │ NULL                  │ NULL                  │ U          │\n",
       "│  10258186 │      4231567 │ 2019-10-29 │ 06:40:00   │ 5804210c-8448-4e77-ba80-aa14009d3da5 │ Occupant    │ Unspecified   │   19145657 │         53 │ Not Ejected │ Does Not Apply   │ Does Not Apply       │ Driver                                                                               │ Lap Belt & Harness │ NULL                                                  │ NULL                 │ Does Not Apply              │ Driver          │ NULL                  │ NULL                  │ M          │\n",
       "│  10262176 │      4231987 │ 2019-10-29 │ 14:56:00   │ 7574fac9-b135-49f7-b09b-24d9b4a7d1c6 │ Occupant    │ Unspecified   │   19147579 │         70 │ Not Ejected │ Does Not Apply   │ Does Not Apply       │ Driver                                                                               │ Unknown            │ NULL                                                  │ NULL                 │ Does Not Apply              │ Driver          │ NULL                  │ NULL                  │ M          │\n",
       "│  10262594 │      4231889 │ 2019-10-29 │ 22:50:00   │ 878b4715-fbb1-46b3-b0fe-0c044b26fd9f │ Occupant    │ Unspecified   │   19147789 │         27 │ Not Ejected │ Does Not Apply   │ Does Not Apply       │ Driver                                                                               │ Lap Belt & Harness │ NULL                                                  │ NULL                 │ Does Not Apply              │ Driver          │ NULL                  │ NULL                  │ F          │\n",
       "│  10258712 │      4231756 │ 2019-10-29 │ 07:50:00   │ c8827f83-ebdd-439b-af5c-a9a2dc42552f │ Occupant    │ Injured       │   19145912 │         26 │ Not Ejected │ Conscious        │ Hip-Upper Leg        │ Driver                                                                               │ Air Bag Deployed   │ NULL                                                  │ NULL                 │ Complaint of Pain or Nausea │ Driver          │ NULL                  │ NULL                  │ M          │\n",
       "│  10259517 │      4232398 │ 2019-10-29 │ 16:03:00   │ 1b6e8202-5c28-45a0-b4c3-ca868e7c2487 │ Occupant    │ Unspecified   │   19146292 │         19 │ NULL        │ NULL             │ NULL                 │ NULL                                                                                 │ NULL               │ NULL                                                  │ NULL                 │ NULL                        │ Registrant      │ NULL                  │ NULL                  │ M          │\n",
       "│  10262581 │      4232029 │ 2019-10-29 │ 21:30:00   │ 064a88c3-1dc3-4685-a60d-a56310ce51cb │ Occupant    │ Unspecified   │   19147783 │         54 │ Not Ejected │ Does Not Apply   │ Does Not Apply       │ Driver                                                                               │ Lap Belt & Harness │ NULL                                                  │ NULL                 │ Does Not Apply              │ Driver          │ NULL                  │ NULL                  │ M          │\n",
       "│  10256306 │      4231582 │ 2019-10-29 │ 09:00:00   │ 507bbde6-dadc-4ff6-b875-485b2459c0bf │ Occupant    │ Unspecified   │   19144746 │         25 │ Not Ejected │ Does Not Apply   │ Does Not Apply       │ Driver                                                                               │ Lap Belt           │ NULL                                                  │ NULL                 │ Does Not Apply              │ Driver          │ NULL                  │ NULL                  │ F          │\n",
       "│  10261576 │      4232114 │ 2019-10-29 │ 22:40:00   │ 2991bfb2-d4c0-4f5e-b4a7-7cb1338ab44f │ Occupant    │ Unspecified   │   19147278 │         66 │ Not Ejected │ Does Not Apply   │ Does Not Apply       │ Driver                                                                               │ Lap Belt & Harness │ NULL                                                  │ NULL                 │ Does Not Apply              │ Driver          │ NULL                  │ NULL                  │ M          │\n",
       "│  10256122 │      4231339 │ 2019-10-29 │ 00:20:00   │ cf69efbd-3f34-4398-a142-8c7337148563 │ Occupant    │ Unspecified   │   19144664 │       NULL │ NULL        │ NULL             │ NULL                 │ NULL                                                                                 │ NULL               │ NULL                                                  │ NULL                 │ NULL                        │ Registrant      │ NULL                  │ NULL                  │ NULL       │\n",
       "├───────────┴──────────────┴────────────┴────────────┴──────────────────────────────────────┴─────────────┴───────────────┴────────────┴────────────┴─────────────┴──────────────────┴──────────────────────┴──────────────────────────────────────────────────────────────────────────────────────┴────────────────────┴───────────────────────────────────────────────────────┴──────────────────────┴─────────────────────────────┴─────────────────┴───────────────────────┴───────────────────────┴────────────┤\n",
       "│ ? rows (>9999 rows, 20 shown)                                                                                                                                                                                                                                                                                                                                                                                                                                                                          21 columns │\n",
       "└───────────────────────────────────────────────────────────────────────────────────────────────────────────────────────────────────────────────────────────────────────────────────────────────────────────────────────────────────────────────────────────────────────────────────────────────────────────────────────────────────────────────────────────────────────────────────────────────────────────────────────────────────────────────────────────────────────────────────────────────────────────────────┘"
      ]
     },
     "execution_count": 7,
     "metadata": {},
     "output_type": "execute_result"
    }
   ],
   "source": [
    "df"
   ]
  },
  {
   "cell_type": "code",
   "execution_count": 46,
   "id": "d7d6241b",
   "metadata": {},
   "outputs": [],
   "source": [
    "dfcar = con.sql(\"SELECT * FROM read_csv('s3://capstone-techcatalyst-raw/More NYC Taxi/Additional NYC Data/Motor_Vehicle_Collisions_-_Vehicles_20250809.csv')\")"
   ]
  },
  {
   "cell_type": "code",
   "execution_count": 47,
   "id": "3ce4013d",
   "metadata": {},
   "outputs": [
    {
     "data": {
      "text/plain": [
       "┌───────────┬──────────────┬────────────┬────────────┬──────────────────────────────────────┬────────────────────┬─────────────────────────────────────┬────────────────┬───────────────┬──────────────┬──────────────────┬───────────────────┬────────────┬───────────────────────┬─────────────────────────────┬──────────────────────┬──────────────────────────┬──────────────────────────┬───────────────────────────┬────────────────────┬──────────────────────────┬────────────────────────┬─────────────────────────────┬────────────────────────────────┬───────────────────────┐\n",
       "│ UNIQUE_ID │ COLLISION_ID │ CRASH_DATE │ CRASH_TIME │              VEHICLE_ID              │ STATE_REGISTRATION │            VEHICLE_TYPE             │  VEHICLE_MAKE  │ VEHICLE_MODEL │ VEHICLE_YEAR │ TRAVEL_DIRECTION │ VEHICLE_OCCUPANTS │ DRIVER_SEX │ DRIVER_LICENSE_STATUS │ DRIVER_LICENSE_JURISDICTION │      PRE_CRASH       │     POINT_OF_IMPACT      │      VEHICLE_DAMAGE      │     VEHICLE_DAMAGE_1      │  VEHICLE_DAMAGE_2  │     VEHICLE_DAMAGE_3     │ PUBLIC_PROPERTY_DAMAGE │ PUBLIC_PROPERTY_DAMAGE_TYPE │     CONTRIBUTING_FACTOR_1      │ CONTRIBUTING_FACTOR_2 │\n",
       "│   int64   │    int64     │    date    │    time    │               varchar                │      varchar       │               varchar               │    varchar     │    varchar    │    int64     │     varchar      │       int64       │  varchar   │        varchar        │           varchar           │       varchar        │         varchar          │         varchar          │          varchar          │      varchar       │         varchar          │        varchar         │           varchar           │            varchar             │        varchar        │\n",
       "├───────────┼──────────────┼────────────┼────────────┼──────────────────────────────────────┼────────────────────┼─────────────────────────────────────┼────────────────┼───────────────┼──────────────┼──────────────────┼───────────────────┼────────────┼───────────────────────┼─────────────────────────────┼──────────────────────┼──────────────────────────┼──────────────────────────┼───────────────────────────┼────────────────────┼──────────────────────────┼────────────────────────┼─────────────────────────────┼────────────────────────────────┼───────────────────────┤\n",
       "│  10385780 │       100201 │ 2012-09-07 │ 09:03:00   │ 1                                    │ NY                 │ PASSENGER VEHICLE                   │ NULL           │ NULL          │         NULL │ NULL             │              NULL │ NULL       │ NULL                  │ NULL                        │ NULL                 │ NULL                     │ NULL                     │ NULL                      │ NULL               │ NULL                     │ NULL                   │ NULL                        │ Unspecified                    │ NULL                  │\n",
       "│  19140702 │      4213082 │ 2019-09-23 │ 08:15:00   │ 0553ab4d-9500-4cba-8d98-f4d7f89d5856 │ NY                 │ Station Wagon/Sport Utility Vehicle │ TOYT -CAR/SUV  │ NULL          │         2002 │ North            │                 1 │ M          │ Licensed              │ NY                          │ Going Straight Ahead │ Left Front Bumper        │ Left Front Quarter Panel │ NULL                      │ NULL               │ NULL                     │ N                      │ NULL                        │ Driver Inattention/Distraction │ Unspecified           │\n",
       "│  14887647 │      3307608 │ 2015-10-02 │ 17:18:00   │ 2                                    │ NY                 │ TAXI                                │ NULL           │ NULL          │         NULL │ NULL             │              NULL │ NULL       │ NULL                  │ NULL                        │ Going Straight Ahead │ NULL                     │ NULL                     │ NULL                      │ NULL               │ NULL                     │ NULL                   │ NULL                        │ Driver Inattention/Distraction │ NULL                  │\n",
       "│  14889754 │      3308693 │ 2015-10-04 │ 20:34:00   │ 1                                    │ NY                 │ PASSENGER VEHICLE                   │ NULL           │ NULL          │         NULL │ NULL             │              NULL │ NULL       │ NULL                  │ NULL                        │ Parked               │ NULL                     │ NULL                     │ NULL                      │ NULL               │ NULL                     │ NULL                   │ NULL                        │ Unspecified                    │ NULL                  │\n",
       "│  14400270 │       297666 │ 2013-04-25 │ 21:15:00   │ 1                                    │ NY                 │ PASSENGER VEHICLE                   │ NULL           │ NULL          │         NULL │ NULL             │              NULL │ NULL       │ NULL                  │ NULL                        │ NULL                 │ NULL                     │ NULL                     │ NULL                      │ NULL               │ NULL                     │ NULL                   │ NULL                        │ Other Vehicular                │ NULL                  │\n",
       "│  17044639 │      3434155 │ 2016-05-02 │ 17:35:00   │ 219456                               │ NY                 │ 4 dr sedan                          │ MERZ -CAR/SUV  │ NULL          │         2015 │ East             │                 2 │ M          │ Licensed              │ FL                          │ Merging              │ Right Front Bumper       │ Right Front Bumper       │ Right Front Quarter Panel │ NULL               │ NULL                     │ N                      │ NULL                        │ Driver Inattention/Distraction │ Unsafe Lane Changing  │\n",
       "│  19138701 │      4229067 │ 2019-10-24 │ 13:15:00   │ c53b43d9-419a-4ab1-9361-3f2979078d89 │ NY                 │ Bus                                 │ FRHT-TRUCK/BUS │ NULL          │         2006 │ East             │                13 │ M          │ Licensed              │ NY                          │ Parked               │ Left Front Quarter Panel │ Left Front Quarter Panel │ NULL                      │ NULL               │ NULL                     │ N                      │ NULL                        │ Unspecified                    │ Unspecified           │\n",
       "│  17303317 │      3503027 │ 2016-08-18 │ 12:39:00   │ 672828                               │ NY                 │ Station Wagon/Sport Utility Vehicle │ FORD -CAR/SUV  │ NULL          │         2005 │ Southwest        │                 2 │ F          │ Licensed              │ NY                          │ Going Straight Ahead │ Center Front End         │ Center Front End         │ No Damage                 │ No Damage          │ No Damage                │ N                      │ NULL                        │ Driver Inattention/Distraction │ Unspecified           │\n",
       "│  12254536 │       196425 │ 2013-07-16 │ 11:20:00   │ 1                                    │ NY                 │ PASSENGER VEHICLE                   │ NULL           │ NULL          │         NULL │ NULL             │              NULL │ NULL       │ NULL                  │ NULL                        │ NULL                 │ NULL                     │ NULL                     │ NULL                      │ NULL               │ NULL                     │ NULL                   │ NULL                        │ Unspecified                    │ NULL                  │\n",
       "│  11804847 │      2975897 │ 2012-11-26 │ 18:12:00   │ 2                                    │ NY                 │ PASSENGER VEHICLE                   │ NULL           │ NULL          │         NULL │ NULL             │              NULL │ NULL       │ NULL                  │ NULL                        │ NULL                 │ NULL                     │ NULL                     │ NULL                      │ NULL               │ NULL                     │ NULL                   │ NULL                        │ Driver Inattention/Distraction │ NULL                  │\n",
       "│      ·    │         ·    │     ·      │    ·       │ ·                                    │ ·                  │     ·                               │  ·             │  ·            │           ·  │  ·               │                 · │ ·          │  ·                    │ ·                           │  ·                   │  ·                       │  ·                       │  ·                        │  ·                 │  ·                       │ ·                      │  ·                          │             ·                  │  ·                    │\n",
       "│      ·    │         ·    │     ·      │    ·       │ ·                                    │ ·                  │     ·                               │  ·             │  ·            │           ·  │  ·               │                 · │ ·          │  ·                    │ ·                           │  ·                   │  ·                       │  ·                       │  ·                        │  ·                 │  ·                       │ ·                      │  ·                          │             ·                  │  ·                    │\n",
       "│      ·    │         ·    │     ·      │    ·       │ ·                                    │ ·                  │     ·                               │  ·             │  ·            │           ·  │  ·               │                 · │ ·          │  ·                    │ ·                           │  ·                   │  ·                       │  ·                       │  ·                        │  ·                 │  ·                       │ ·                      │  ·                          │             ·                  │  ·                    │\n",
       "│  17044342 │      3436619 │ 2016-05-05 │ 09:51:00   │ 235243                               │ NY                 │ 4 dr sedan                          │ SUBA -CAR/SUV  │ SUBA IMP      │         2008 │ East             │                 0 │ M          │ Unlicensed            │ NY                          │ Going Straight Ahead │ Right Front Bumper       │ Right Front Bumper       │ Center Front End          │ No Damage          │ No Damage                │ N                      │ NULL                        │ Driverless/Runaway Vehicle     │ Unspecified           │\n",
       "│  12456742 │       206257 │ 2013-05-28 │ 14:15:00   │ 1                                    │ NY                 │ PASSENGER VEHICLE                   │ NULL           │ NULL          │         NULL │ NULL             │              NULL │ NULL       │ NULL                  │ NULL                        │ NULL                 │ NULL                     │ NULL                     │ NULL                      │ NULL               │ NULL                     │ NULL                   │ NULL                        │ Unspecified                    │ NULL                  │\n",
       "│  12843943 │       224295 │ 2013-07-01 │ 11:00:00   │ 2                                    │ NY                 │ BUS                                 │ NULL           │ NULL          │         NULL │ NULL             │              NULL │ NULL       │ NULL                  │ NULL                        │ NULL                 │ NULL                     │ NULL                     │ NULL                      │ NULL               │ NULL                     │ NULL                   │ NULL                        │ Unspecified                    │ NULL                  │\n",
       "│  11408115 │       314646 │ 2014-04-03 │ 05:35:00   │ 1                                    │ NY                 │ PASSENGER VEHICLE                   │ NULL           │ NULL          │         NULL │ NULL             │              NULL │ NULL       │ NULL                  │ NULL                        │ NULL                 │ NULL                     │ NULL                     │ NULL                      │ NULL               │ NULL                     │ NULL                   │ NULL                        │ Unspecified                    │ NULL                  │\n",
       "│  17225386 │      3474366 │ 2016-07-02 │ 01:25:00   │ 488360                               │ NY                 │ 4 dr sedan                          │ HOND -CAR/SUV  │ NULL          │         2004 │ East             │                 1 │ F          │ Licensed              │ NY                          │ Going Straight Ahead │ Center Front End         │ Center Front End         │ Left Front Bumper         │ Right Front Bumper │ Left Front Quarter Panel │ N                      │ NULL                        │ Unspecified                    │ Unspecified           │\n",
       "│  12129269 │       188255 │ 2012-09-25 │ 13:15:00   │ 2                                    │ NY                 │ VAN                                 │ NULL           │ NULL          │         NULL │ NULL             │              NULL │ NULL       │ NULL                  │ NULL                        │ NULL                 │ NULL                     │ NULL                     │ NULL                      │ NULL               │ NULL                     │ NULL                   │ NULL                        │ Unspecified                    │ NULL                  │\n",
       "│  17375682 │      3567422 │ 2016-11-24 │ 18:50:00   │ 1115145                              │ NY                 │ Station Wagon/Sport Utility Vehicle │ HOND -CAR/SUV  │ NULL          │         2014 │ West             │                 2 │ F          │ Licensed              │ NY                          │ Stopped in Traffic   │ Center Back End          │ Center Back End          │ Right Rear Bumper         │ Left Rear Bumper   │ NULL                     │ N                      │ NULL                        │ Unspecified                    │ Unspecified           │\n",
       "│  10389732 │       101683 │ 2013-07-31 │ 09:44:00   │ 2                                    │ NY                 │ PASSENGER VEHICLE                   │ NULL           │ NULL          │         NULL │ NULL             │              NULL │ NULL       │ NULL                  │ NULL                        │ NULL                 │ NULL                     │ NULL                     │ NULL                      │ NULL               │ NULL                     │ NULL                   │ NULL                        │ Unspecified                    │ NULL                  │\n",
       "│  17251294 │      3533135 │ 2016-08-01 │ 20:00:00   │ 595498                               │ NY                 │ Sedan                               │ ACUR -CAR/SUV  │ NULL          │         2005 │ South            │                 1 │ M          │ Licensed              │ NY                          │ Making Left Turn     │ Left Side Doors          │ Left Side Doors          │ Left Rear Quarter Panel   │ No Damage          │ No Damage                │ N                      │ NULL                        │ Driver Inexperience            │ Unspecified           │\n",
       "│  12182386 │       191594 │ 2012-07-11 │ 13:05:00   │ 2                                    │ NY                 │ BICYCLE                             │ NULL           │ NULL          │         NULL │ NULL             │              NULL │ NULL       │ NULL                  │ NULL                        │ NULL                 │ NULL                     │ NULL                     │ NULL                      │ NULL               │ NULL                     │ NULL                   │ NULL                        │ Unspecified                    │ NULL                  │\n",
       "├───────────┴──────────────┴────────────┴────────────┴──────────────────────────────────────┴────────────────────┴─────────────────────────────────────┴────────────────┴───────────────┴──────────────┴──────────────────┴───────────────────┴────────────┴───────────────────────┴─────────────────────────────┴──────────────────────┴──────────────────────────┴──────────────────────────┴───────────────────────────┴────────────────────┴──────────────────────────┴────────────────────────┴─────────────────────────────┴────────────────────────────────┴───────────────────────┤\n",
       "│ ? rows (>9999 rows, 20 shown)                                                                                                                                                                                                                                                                                                                                                                                                                                                                                                                                                25 columns │\n",
       "└─────────────────────────────────────────────────────────────────────────────────────────────────────────────────────────────────────────────────────────────────────────────────────────────────────────────────────────────────────────────────────────────────────────────────────────────────────────────────────────────────────────────────────────────────────────────────────────────────────────────────────────────────────────────────────────────────────────────────────────────────────────────────────────────────────────────────────────────────────────────────────────┘"
      ]
     },
     "execution_count": 47,
     "metadata": {},
     "output_type": "execute_result"
    }
   ],
   "source": [
    "dfcar"
   ]
  },
  {
   "cell_type": "code",
   "execution_count": 59,
   "id": "a70ac656",
   "metadata": {},
   "outputs": [
    {
     "data": {
      "text/plain": [
       "┌───────────┬──────────────┬────────────┬────────────┬──────────────────────────────────────┬────────────────────┬─────────────────────────────────────┬────────────────┬───────────────┬──────────────┬──────────────────┬───────────────────┬────────────┬───────────────────────┬─────────────────────────────┬──────────────────────┬──────────────────────────┬──────────────────────────┬───────────────────────────┬──────────────────┬──────────────────┬────────────────────────┬─────────────────────────────┬────────────────────────────────┬───────────────────────┐\n",
       "│ UNIQUE_ID │ COLLISION_ID │ CRASH_DATE │ CRASH_TIME │              VEHICLE_ID              │ STATE_REGISTRATION │            VEHICLE_TYPE             │  VEHICLE_MAKE  │ VEHICLE_MODEL │ VEHICLE_YEAR │ TRAVEL_DIRECTION │ VEHICLE_OCCUPANTS │ DRIVER_SEX │ DRIVER_LICENSE_STATUS │ DRIVER_LICENSE_JURISDICTION │      PRE_CRASH       │     POINT_OF_IMPACT      │      VEHICLE_DAMAGE      │     VEHICLE_DAMAGE_1      │ VEHICLE_DAMAGE_2 │ VEHICLE_DAMAGE_3 │ PUBLIC_PROPERTY_DAMAGE │ PUBLIC_PROPERTY_DAMAGE_TYPE │     CONTRIBUTING_FACTOR_1      │ CONTRIBUTING_FACTOR_2 │\n",
       "│   int64   │    int64     │    date    │    time    │               varchar                │      varchar       │               varchar               │    varchar     │    varchar    │    int64     │     varchar      │       int64       │  varchar   │        varchar        │           varchar           │       varchar        │         varchar          │         varchar          │          varchar          │     varchar      │     varchar      │        varchar         │           varchar           │            varchar             │        varchar        │\n",
       "├───────────┼──────────────┼────────────┼────────────┼──────────────────────────────────────┼────────────────────┼─────────────────────────────────────┼────────────────┼───────────────┼──────────────┼──────────────────┼───────────────────┼────────────┼───────────────────────┼─────────────────────────────┼──────────────────────┼──────────────────────────┼──────────────────────────┼───────────────────────────┼──────────────────┼──────────────────┼────────────────────────┼─────────────────────────────┼────────────────────────────────┼───────────────────────┤\n",
       "│  10385780 │       100201 │ 2012-09-07 │ 09:03:00   │ 1                                    │ NY                 │ PASSENGER VEHICLE                   │ NULL           │ NULL          │         NULL │ NULL             │              NULL │ NULL       │ NULL                  │ NULL                        │ NULL                 │ NULL                     │ NULL                     │ NULL                      │ NULL             │ NULL             │ NULL                   │ NULL                        │ Unspecified                    │ NULL                  │\n",
       "│  19140702 │      4213082 │ 2019-09-23 │ 08:15:00   │ 0553ab4d-9500-4cba-8d98-f4d7f89d5856 │ NY                 │ Station Wagon/Sport Utility Vehicle │ TOYT -CAR/SUV  │ NULL          │         2002 │ North            │                 1 │ M          │ Licensed              │ NY                          │ Going Straight Ahead │ Left Front Bumper        │ Left Front Quarter Panel │ NULL                      │ NULL             │ NULL             │ N                      │ NULL                        │ Driver Inattention/Distraction │ Unspecified           │\n",
       "│  14887647 │      3307608 │ 2015-10-02 │ 17:18:00   │ 2                                    │ NY                 │ TAXI                                │ NULL           │ NULL          │         NULL │ NULL             │              NULL │ NULL       │ NULL                  │ NULL                        │ Going Straight Ahead │ NULL                     │ NULL                     │ NULL                      │ NULL             │ NULL             │ NULL                   │ NULL                        │ Driver Inattention/Distraction │ NULL                  │\n",
       "│  14889754 │      3308693 │ 2015-10-04 │ 20:34:00   │ 1                                    │ NY                 │ PASSENGER VEHICLE                   │ NULL           │ NULL          │         NULL │ NULL             │              NULL │ NULL       │ NULL                  │ NULL                        │ Parked               │ NULL                     │ NULL                     │ NULL                      │ NULL             │ NULL             │ NULL                   │ NULL                        │ Unspecified                    │ NULL                  │\n",
       "│  14400270 │       297666 │ 2013-04-25 │ 21:15:00   │ 1                                    │ NY                 │ PASSENGER VEHICLE                   │ NULL           │ NULL          │         NULL │ NULL             │              NULL │ NULL       │ NULL                  │ NULL                        │ NULL                 │ NULL                     │ NULL                     │ NULL                      │ NULL             │ NULL             │ NULL                   │ NULL                        │ Other Vehicular                │ NULL                  │\n",
       "│  17044639 │      3434155 │ 2016-05-02 │ 17:35:00   │ 219456                               │ NY                 │ 4 dr sedan                          │ MERZ -CAR/SUV  │ NULL          │         2015 │ East             │                 2 │ M          │ Licensed              │ FL                          │ Merging              │ Right Front Bumper       │ Right Front Bumper       │ Right Front Quarter Panel │ NULL             │ NULL             │ N                      │ NULL                        │ Driver Inattention/Distraction │ Unsafe Lane Changing  │\n",
       "│  19138701 │      4229067 │ 2019-10-24 │ 13:15:00   │ c53b43d9-419a-4ab1-9361-3f2979078d89 │ NY                 │ Bus                                 │ FRHT-TRUCK/BUS │ NULL          │         2006 │ East             │                13 │ M          │ Licensed              │ NY                          │ Parked               │ Left Front Quarter Panel │ Left Front Quarter Panel │ NULL                      │ NULL             │ NULL             │ N                      │ NULL                        │ Unspecified                    │ Unspecified           │\n",
       "│  17303317 │      3503027 │ 2016-08-18 │ 12:39:00   │ 672828                               │ NY                 │ Station Wagon/Sport Utility Vehicle │ FORD -CAR/SUV  │ NULL          │         2005 │ Southwest        │                 2 │ F          │ Licensed              │ NY                          │ Going Straight Ahead │ Center Front End         │ Center Front End         │ No Damage                 │ No Damage        │ No Damage        │ N                      │ NULL                        │ Driver Inattention/Distraction │ Unspecified           │\n",
       "│  12254536 │       196425 │ 2013-07-16 │ 11:20:00   │ 1                                    │ NY                 │ PASSENGER VEHICLE                   │ NULL           │ NULL          │         NULL │ NULL             │              NULL │ NULL       │ NULL                  │ NULL                        │ NULL                 │ NULL                     │ NULL                     │ NULL                      │ NULL             │ NULL             │ NULL                   │ NULL                        │ Unspecified                    │ NULL                  │\n",
       "│  11804847 │      2975897 │ 2012-11-26 │ 18:12:00   │ 2                                    │ NY                 │ PASSENGER VEHICLE                   │ NULL           │ NULL          │         NULL │ NULL             │              NULL │ NULL       │ NULL                  │ NULL                        │ NULL                 │ NULL                     │ NULL                     │ NULL                      │ NULL             │ NULL             │ NULL                   │ NULL                        │ Driver Inattention/Distraction │ NULL                  │\n",
       "│      ·    │          ·   │     ·      │    ·       │ ·                                    │ ·                  │         ·                           │  ·             │  ·            │           ·  │  ·               │                ·  │  ·         │  ·                    │  ·                          │  ·                   │  ·                       │  ·                       │  ·                        │  ·               │  ·               │  ·                     │  ·                          │      ·                         │  ·                    │\n",
       "│      ·    │          ·   │     ·      │    ·       │ ·                                    │ ·                  │         ·                           │  ·             │  ·            │           ·  │  ·               │                ·  │  ·         │  ·                    │  ·                          │  ·                   │  ·                       │  ·                       │  ·                        │  ·               │  ·               │  ·                     │  ·                          │      ·                         │  ·                    │\n",
       "│      ·    │          ·   │     ·      │    ·       │ ·                                    │ ·                  │         ·                           │  ·             │  ·            │           ·  │  ·               │                ·  │  ·         │  ·                    │  ·                          │  ·                   │  ·                       │  ·                       │  ·                        │  ·               │  ·               │  ·                     │  ·                          │      ·                         │  ·                    │\n",
       "│  11749792 │       168810 │ 2013-09-30 │ 09:00:00   │ 2                                    │ NY                 │ PASSENGER VEHICLE                   │ NULL           │ NULL          │         NULL │ NULL             │              NULL │ NULL       │ NULL                  │ NULL                        │ NULL                 │ NULL                     │ NULL                     │ NULL                      │ NULL             │ NULL             │ NULL                   │ NULL                        │ Unspecified                    │ NULL                  │\n",
       "│  10880451 │      2812534 │ 2014-10-22 │ 18:30:00   │ 1                                    │ NY                 │ SPORT UTILITY / STATION WAGON       │ NULL           │ NULL          │         NULL │ NULL             │              NULL │ NULL       │ NULL                  │ NULL                        │ Parked               │ NULL                     │ NULL                     │ NULL                      │ NULL             │ NULL             │ NULL                   │ NULL                        │ Unspecified                    │ NULL                  │\n",
       "│  12669987 │       334692 │ 2014-05-13 │ 03:00:00   │ 5                                    │ NY                 │ PASSENGER VEHICLE                   │ NULL           │ NULL          │         NULL │ NULL             │              NULL │ NULL       │ NULL                  │ NULL                        │ Going Straight Ahead │ NULL                     │ NULL                     │ NULL                      │ NULL             │ NULL             │ NULL                   │ NULL                        │ Unspecified                    │ NULL                  │\n",
       "│   9564905 │        64752 │ 2013-12-03 │ 16:40:00   │ 2                                    │ NY                 │ SPORT UTILITY / STATION WAGON       │ NULL           │ NULL          │         NULL │ NULL             │              NULL │ NULL       │ NULL                  │ NULL                        │ NULL                 │ NULL                     │ NULL                     │ NULL                      │ NULL             │ NULL             │ NULL                   │ NULL                        │ Prescription Medication        │ NULL                  │\n",
       "│  14871268 │      3299398 │ 2015-09-18 │ 17:14:00   │ 2                                    │ NY                 │ PASSENGER VEHICLE                   │ NULL           │ NULL          │         NULL │ NULL             │              NULL │ NULL       │ NULL                  │ NULL                        │ Making Left Turn     │ NULL                     │ NULL                     │ NULL                      │ NULL             │ NULL             │ NULL                   │ NULL                        │ Unspecified                    │ NULL                  │\n",
       "│  13853344 │       310991 │ 2014-03-25 │ 15:30:00   │ 2                                    │ NY                 │ PASSENGER VEHICLE                   │ NULL           │ NULL          │         NULL │ NULL             │              NULL │ NULL       │ NULL                  │ NULL                        │ NULL                 │ NULL                     │ NULL                     │ NULL                      │ NULL             │ NULL             │ NULL                   │ NULL                        │ Unspecified                    │ NULL                  │\n",
       "│  11914133 │       176730 │ 2012-12-19 │ 09:14:00   │ 2                                    │ NY                 │ PASSENGER VEHICLE                   │ NULL           │ NULL          │         NULL │ NULL             │              NULL │ NULL       │ NULL                  │ NULL                        │ NULL                 │ NULL                     │ NULL                     │ NULL                      │ NULL             │ NULL             │ NULL                   │ NULL                        │ Unspecified                    │ NULL                  │\n",
       "│  17420286 │      3564105 │ 2016-11-18 │ 10:00:00   │ 1090577                              │ NY                 │ Station Wagon/Sport Utility Vehicle │ TOYT -CAR/SUV  │ NULL          │         2015 │ South            │                 1 │ F          │ Licensed              │ NY                          │ Making Left Turn     │ Right Rear Bumper        │ Right Rear Bumper        │ NULL                      │ NULL             │ NULL             │ N                      │ NULL                        │ Failure to Yield Right-of-Way  │ Unspecified           │\n",
       "│  14998659 │      3363425 │ 2015-12-31 │ 16:20:00   │ 2                                    │ NY                 │ SPORT UTILITY / STATION WAGON       │ NULL           │ NULL          │         NULL │ NULL             │              NULL │ NULL       │ NULL                  │ NULL                        │ Passing              │ NULL                     │ NULL                     │ NULL                      │ NULL             │ NULL             │ NULL                   │ NULL                        │ Unspecified                    │ NULL                  │\n",
       "│   9971298 │        83217 │ 2013-06-18 │ 20:45:00   │ 1                                    │ NY                 │ TAXI                                │ NULL           │ NULL          │         NULL │ NULL             │              NULL │ NULL       │ NULL                  │ NULL                        │ NULL                 │ NULL                     │ NULL                     │ NULL                      │ NULL             │ NULL             │ NULL                   │ NULL                        │ Unspecified                    │ NULL                  │\n",
       "├───────────┴──────────────┴────────────┴────────────┴──────────────────────────────────────┴────────────────────┴─────────────────────────────────────┴────────────────┴───────────────┴──────────────┴──────────────────┴───────────────────┴────────────┴───────────────────────┴─────────────────────────────┴──────────────────────┴──────────────────────────┴──────────────────────────┴───────────────────────────┴──────────────────┴──────────────────┴────────────────────────┴─────────────────────────────┴────────────────────────────────┴───────────────────────┤\n",
       "│ ? rows (>9999 rows, 20 shown)                                                                                                                                                                                                                                                                                                                                                                                                                                                                                                                                      25 columns │\n",
       "└───────────────────────────────────────────────────────────────────────────────────────────────────────────────────────────────────────────────────────────────────────────────────────────────────────────────────────────────────────────────────────────────────────────────────────────────────────────────────────────────────────────────────────────────────────────────────────────────────────────────────────────────────────────────────────────────────────────────────────────────────────────────────────────────────────────────────────────────────────────────┘"
      ]
     },
     "execution_count": 59,
     "metadata": {},
     "output_type": "execute_result"
    }
   ],
   "source": [
    "con.sql(\"\"\"\n",
    "SELECT * FROM dfcar\n",
    "WHERE COLLISION_ID > 8000\n",
    "\"\"\")\n"
   ]
  },
  {
   "cell_type": "code",
   "execution_count": 41,
   "id": "95bb8fcb",
   "metadata": {},
   "outputs": [
    {
     "ename": "ConversionException",
     "evalue": "Conversion Error: CSV Error on Line: 24656\nOriginal Line: 17378704,3518367,09/12/2016,14:26,783588,NY,Bus,\"IC, YELLOW BUS(OMNIBUS)\",,2006,Southwest,1,M,Licensed,NY,Making Right Turn,Left Rear Bumper,No Damage,,,,N,,Turning Improperly,Unspecified\nError when converting column \"VEHICLE_OCCUPANTS\". Could not convert string \"Southwest\" to 'BIGINT'\n\nColumn VEHICLE_OCCUPANTS is being converted as type BIGINT\nThis type was auto-detected from the CSV file.\nPossible solutions:\n* Override the type for this column manually by setting the type explicitly, e.g. types={'VEHICLE_OCCUPANTS': 'VARCHAR'}\n* Set the sample size to a larger value to enable the auto-detection to scan more values, e.g. sample_size=-1\n* Use a COPY statement to automatically derive types from an existing table.\n* Check whether the null string value is set correctly (e.g., nullstr = 'N/A')\n\n  file = s3://capstone-techcatalyst-raw/More NYC Taxi/Additional NYC Data/Motor_Vehicle_Collisions_-_Vehicles_20250809.csv\n  delimiter = , (Auto-Detected)\n  quote = \\0 (Auto-Detected)\n  escape = \\0 (Auto-Detected)\n  new_line = \\n (Auto-Detected)\n  header = true (Auto-Detected)\n  skip_rows = 0 (Auto-Detected)\n  comment = \\0 (Auto-Detected)\n  strict_mode = true (Auto-Detected)\n  date_format = %m/%d/%Y (Auto-Detected)\n  timestamp_format =  (Auto-Detected)\n  null_padding = 0\n  sample_size = 20480\n  ignore_errors = false\n  all_varchar = 0\n\n",
     "output_type": "error",
     "traceback": [
      "\u001b[31m---------------------------------------------------------------------------\u001b[39m",
      "\u001b[31mConversionException\u001b[39m                       Traceback (most recent call last)",
      "\u001b[36mFile \u001b[39m\u001b[32m/opt/conda/envs/dev1/lib/python3.13/site-packages/IPython/core/formatters.py:770\u001b[39m, in \u001b[36mPlainTextFormatter.__call__\u001b[39m\u001b[34m(self, obj)\u001b[39m\n\u001b[32m    763\u001b[39m stream = StringIO()\n\u001b[32m    764\u001b[39m printer = pretty.RepresentationPrinter(stream, \u001b[38;5;28mself\u001b[39m.verbose,\n\u001b[32m    765\u001b[39m     \u001b[38;5;28mself\u001b[39m.max_width, \u001b[38;5;28mself\u001b[39m.newline,\n\u001b[32m    766\u001b[39m     max_seq_length=\u001b[38;5;28mself\u001b[39m.max_seq_length,\n\u001b[32m    767\u001b[39m     singleton_pprinters=\u001b[38;5;28mself\u001b[39m.singleton_printers,\n\u001b[32m    768\u001b[39m     type_pprinters=\u001b[38;5;28mself\u001b[39m.type_printers,\n\u001b[32m    769\u001b[39m     deferred_pprinters=\u001b[38;5;28mself\u001b[39m.deferred_printers)\n\u001b[32m--> \u001b[39m\u001b[32m770\u001b[39m printer.pretty(obj)\n\u001b[32m    771\u001b[39m printer.flush()\n\u001b[32m    772\u001b[39m \u001b[38;5;28;01mreturn\u001b[39;00m stream.getvalue()\n",
      "\u001b[36mFile \u001b[39m\u001b[32m/opt/conda/envs/dev1/lib/python3.13/site-packages/IPython/lib/pretty.py:411\u001b[39m, in \u001b[36mRepresentationPrinter.pretty\u001b[39m\u001b[34m(self, obj)\u001b[39m\n\u001b[32m    400\u001b[39m                         \u001b[38;5;28;01mreturn\u001b[39;00m meth(obj, \u001b[38;5;28mself\u001b[39m, cycle)\n\u001b[32m    401\u001b[39m                 \u001b[38;5;28;01mif\u001b[39;00m (\n\u001b[32m    402\u001b[39m                     \u001b[38;5;28mcls\u001b[39m \u001b[38;5;129;01mis\u001b[39;00m \u001b[38;5;129;01mnot\u001b[39;00m \u001b[38;5;28mobject\u001b[39m\n\u001b[32m    403\u001b[39m                     \u001b[38;5;66;03m# check if cls defines __repr__\u001b[39;00m\n\u001b[32m   (...)\u001b[39m\u001b[32m    409\u001b[39m                     \u001b[38;5;129;01mand\u001b[39;00m \u001b[38;5;28mcallable\u001b[39m(_safe_getattr(\u001b[38;5;28mcls\u001b[39m, \u001b[33m\"\u001b[39m\u001b[33m__repr__\u001b[39m\u001b[33m\"\u001b[39m, \u001b[38;5;28;01mNone\u001b[39;00m))\n\u001b[32m    410\u001b[39m                 ):\n\u001b[32m--> \u001b[39m\u001b[32m411\u001b[39m                     \u001b[38;5;28;01mreturn\u001b[39;00m _repr_pprint(obj, \u001b[38;5;28mself\u001b[39m, cycle)\n\u001b[32m    413\u001b[39m     \u001b[38;5;28;01mreturn\u001b[39;00m _default_pprint(obj, \u001b[38;5;28mself\u001b[39m, cycle)\n\u001b[32m    414\u001b[39m \u001b[38;5;28;01mfinally\u001b[39;00m:\n",
      "\u001b[36mFile \u001b[39m\u001b[32m/opt/conda/envs/dev1/lib/python3.13/site-packages/IPython/lib/pretty.py:786\u001b[39m, in \u001b[36m_repr_pprint\u001b[39m\u001b[34m(obj, p, cycle)\u001b[39m\n\u001b[32m    784\u001b[39m \u001b[38;5;250m\u001b[39m\u001b[33;03m\"\"\"A pprint that just redirects to the normal repr function.\"\"\"\u001b[39;00m\n\u001b[32m    785\u001b[39m \u001b[38;5;66;03m# Find newlines and replace them with p.break_()\u001b[39;00m\n\u001b[32m--> \u001b[39m\u001b[32m786\u001b[39m output = \u001b[38;5;28mrepr\u001b[39m(obj)\n\u001b[32m    787\u001b[39m lines = output.splitlines()\n\u001b[32m    788\u001b[39m \u001b[38;5;28;01mwith\u001b[39;00m p.group():\n",
      "\u001b[31mConversionException\u001b[39m: Conversion Error: CSV Error on Line: 24656\nOriginal Line: 17378704,3518367,09/12/2016,14:26,783588,NY,Bus,\"IC, YELLOW BUS(OMNIBUS)\",,2006,Southwest,1,M,Licensed,NY,Making Right Turn,Left Rear Bumper,No Damage,,,,N,,Turning Improperly,Unspecified\nError when converting column \"VEHICLE_OCCUPANTS\". Could not convert string \"Southwest\" to 'BIGINT'\n\nColumn VEHICLE_OCCUPANTS is being converted as type BIGINT\nThis type was auto-detected from the CSV file.\nPossible solutions:\n* Override the type for this column manually by setting the type explicitly, e.g. types={'VEHICLE_OCCUPANTS': 'VARCHAR'}\n* Set the sample size to a larger value to enable the auto-detection to scan more values, e.g. sample_size=-1\n* Use a COPY statement to automatically derive types from an existing table.\n* Check whether the null string value is set correctly (e.g., nullstr = 'N/A')\n\n  file = s3://capstone-techcatalyst-raw/More NYC Taxi/Additional NYC Data/Motor_Vehicle_Collisions_-_Vehicles_20250809.csv\n  delimiter = , (Auto-Detected)\n  quote = \\0 (Auto-Detected)\n  escape = \\0 (Auto-Detected)\n  new_line = \\n (Auto-Detected)\n  header = true (Auto-Detected)\n  skip_rows = 0 (Auto-Detected)\n  comment = \\0 (Auto-Detected)\n  strict_mode = true (Auto-Detected)\n  date_format = %m/%d/%Y (Auto-Detected)\n  timestamp_format =  (Auto-Detected)\n  null_padding = 0\n  sample_size = 20480\n  ignore_errors = false\n  all_varchar = 0\n\n"
     ]
    }
   ],
   "source": [
    "con.sql(\"SELECT * FROM dfcar WHERE COLLISION_ID = 3434155\")\n",
    "\n",
    "\n",
    "\n"
   ]
  },
  {
   "cell_type": "code",
   "execution_count": null,
   "id": "0c496d35",
   "metadata": {},
   "outputs": [],
   "source": []
  }
 ],
 "metadata": {
  "kernelspec": {
   "display_name": "dev1",
   "language": "python",
   "name": "python3"
  },
  "language_info": {
   "codemirror_mode": {
    "name": "ipython",
    "version": 3
   },
   "file_extension": ".py",
   "mimetype": "text/x-python",
   "name": "python",
   "nbconvert_exporter": "python",
   "pygments_lexer": "ipython3",
   "version": "3.13.5"
  }
 },
 "nbformat": 4,
 "nbformat_minor": 5
}
